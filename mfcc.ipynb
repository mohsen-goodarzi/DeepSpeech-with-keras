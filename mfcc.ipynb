{
  "nbformat": 4,
  "nbformat_minor": 0,
  "metadata": {
    "colab": {
      "name": "mfcc.ipynb",
      "provenance": [],
      "authorship_tag": "ABX9TyO92qqvN5KGTDu3cyralpYm",
      "include_colab_link": true
    },
    "kernelspec": {
      "name": "python3",
      "display_name": "Python 3"
    }
  },
  "cells": [
    {
      "cell_type": "markdown",
      "metadata": {
        "id": "view-in-github",
        "colab_type": "text"
      },
      "source": [
        "<a href=\"https://colab.research.google.com/github/mohsen-goodarzi/DeepSpeech-with-keras/blob/master/mfcc.ipynb\" target=\"_parent\"><img src=\"https://colab.research.google.com/assets/colab-badge.svg\" alt=\"Open In Colab\"/></a>"
      ]
    },
    {
      "cell_type": "markdown",
      "metadata": {
        "id": "7pO8oCtakjZ7",
        "colab_type": "text"
      },
      "source": [
        ""
      ]
    },
    {
      "cell_type": "markdown",
      "metadata": {
        "id": "jFZt6CggklES",
        "colab_type": "text"
      },
      "source": [
        "# Extracting MFCC from wav files\n",
        "https://haythamfayek.com/2016/04/21/speech-processing-for-machine-learning.html"
      ]
    },
    {
      "cell_type": "code",
      "metadata": {
        "id": "Uld4_XIqmIrT",
        "colab_type": "code",
        "colab": {}
      },
      "source": [
        "import numpy as np\n",
        "from scipy.io import wavfile\n",
        "import math\n",
        "import matplotlib.pyplot as plt\n"
      ],
      "execution_count": 0,
      "outputs": []
    },
    {
      "cell_type": "code",
      "metadata": {
        "id": "wvO4XAHp3eKW",
        "colab_type": "code",
        "colab": {
          "base_uri": "https://localhost:8080/",
          "height": 68
        },
        "outputId": "92f0a1e0-9e9a-4627-8610-6bd363ae8ddb"
      },
      "source": [
        "!curl -o test.wav http://www.fit.vutbr.cz/~motlicek/sympatex/f2bjrop1.1.wav"
      ],
      "execution_count": 15,
      "outputs": [
        {
          "output_type": "stream",
          "text": [
            "  % Total    % Received % Xferd  Average Speed   Time    Time     Time  Current\n",
            "                                 Dload  Upload   Total   Spent    Left  Speed\n",
            "100  365k  100  365k    0     0   270k      0  0:00:01  0:00:01 --:--:--  270k\n"
          ],
          "name": "stdout"
        }
      ]
    },
    {
      "cell_type": "code",
      "metadata": {
        "id": "6pxY0eiokg6J",
        "colab_type": "code",
        "colab": {}
      },
      "source": [
        "wav_name='test.wav'\n",
        "frame_length=0.020               # frame length in seconds\n",
        "frame_shift=0.010                # frame length in seconds\n",
        "fs=16000                         # fs\n",
        "n_fbank=26;                      # number of filters in filter bank\n",
        "pre_emphasis = 0.97              # write 0 if no need to pre emphasis\n",
        "\n",
        "N=round(frame_length*fs)         # frames length in samples\n",
        "M=round(frame_shift*fs)           # frame shift in samples\n",
        "\n",
        "fs, wav_test = wavfile.read(wav_name)\n",
        "\n",
        "if pre_emphasis != 0:\n",
        "  wav_test=np.append(wav_test[0], wav_test[1:]-pre_emphasis*wav_test[:-1])\n",
        "\n",
        "n_frames=math.floor((len(wav_test)-N)/M)\n",
        "win=np.hamming(N)\n",
        "\n",
        "# n=1;\n"
      ],
      "execution_count": 0,
      "outputs": []
    },
    {
      "cell_type": "code",
      "metadata": {
        "id": "zeImIkBS4HUx",
        "colab_type": "code",
        "colab": {
          "base_uri": "https://localhost:8080/",
          "height": 265
        },
        "outputId": "f9d7d294-3d70-43ac-d7c3-385bec528aa2"
      },
      "source": [
        "plt.plot(win)\n",
        "plt.show()"
      ],
      "execution_count": 31,
      "outputs": [
        {
          "output_type": "display_data",
          "data": {
            "image/png": "[encoded data removed]",
            "text/plain": [
              "<Figure size 432x288 with 1 Axes>"
            ]
          },
          "metadata": {
            "tags": []
          }
        }
      ]
    }
  ]
}