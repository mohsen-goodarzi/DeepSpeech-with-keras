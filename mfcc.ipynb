{
  "nbformat": 4,
  "nbformat_minor": 0,
  "metadata": {
    "colab": {
      "name": "Untitled2.ipynb",
      "provenance": [],
      "authorship_tag": "ABX9TyORN+FtU2qqxCUGDukrFAbX",
      "include_colab_link": true
    },
    "kernelspec": {
      "name": "python3",
      "display_name": "Python 3"
    }
  },
  "cells": [
    {
      "cell_type": "markdown",
      "metadata": {
        "id": "view-in-github",
        "colab_type": "text"
      },
      "source": [
        "<a href=\"https://colab.research.google.com/github/mohsen-goodarzi/DeepSpeech-with-keras/blob/master/mfcc.ipynb\" target=\"_parent\"><img src=\"https://colab.research.google.com/assets/colab-badge.svg\" alt=\"Open In Colab\"/></a>"
      ]
    },
    {
      "cell_type": "markdown",
      "metadata": {
        "id": "7pO8oCtakjZ7",
        "colab_type": "text"
      },
      "source": [
        ""
      ]
    },
    {
      "cell_type": "markdown",
      "metadata": {
        "id": "jFZt6CggklES",
        "colab_type": "text"
      },
      "source": [
        "# Extracting MFCC from wav files"
      ]
    },
    {
      "cell_type": "markdown",
      "metadata": {
        "id": "_5NKXYqBmKAZ",
        "colab_type": "text"
      },
      "source": [
        "## Imports"
      ]
    },
    {
      "cell_type": "code",
      "metadata": {
        "id": "Uld4_XIqmIrT",
        "colab_type": "code",
        "colab": {}
      },
      "source": [
        "import numpy as np\n",
        "from scipy.io import wavfile\n",
        "import math"
      ],
      "execution_count": 0,
      "outputs": []
    },
    {
      "cell_type": "code",
      "metadata": {
        "id": "6pxY0eiokg6J",
        "colab_type": "code",
        "colab": {}
      },
      "source": [
        "wav_name=''\n",
        "N=400           # frames length\n",
        "M=160           # overlap\n",
        "fs=16000        # fs\n",
        "n_fbank=26;     # number of filters in filter bank\n",
        "\n",
        "fs , wav_test = wavfile.read(wavfile)\n",
        "\n",
        "\n",
        "n_frames=math.floor((len(wav_test)-N)/M));\n",
        "win=hamming(N);\n",
        "\n",
        "n=1;"
      ],
      "execution_count": 0,
      "outputs": []
    }
  ]
}