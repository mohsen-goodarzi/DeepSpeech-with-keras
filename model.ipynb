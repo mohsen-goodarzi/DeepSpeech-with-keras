{
  "nbformat": 4,
  "nbformat_minor": 0,
  "metadata": {
    "colab": {
      "name": "model.ipynb",
      "provenance": [],
      "collapsed_sections": [],
      "authorship_tag": "ABX9TyOJyEXAQDK6Ygsy2gsJ9tHR",
      "include_colab_link": true
    },
    "kernelspec": {
      "name": "python3",
      "display_name": "Python 3"
    }
  },
  "cells": [
    {
      "cell_type": "markdown",
      "metadata": {
        "id": "view-in-github",
        "colab_type": "text"
      },
      "source": [
        "<a href=\"https://colab.research.google.com/github/mohsen-goodarzi/DeepSpeech-with-keras/blob/master/model.ipynb\" target=\"_parent\"><img src=\"https://colab.research.google.com/assets/colab-badge.svg\" alt=\"Open In Colab\"/></a>"
      ]
    },
    {
      "cell_type": "code",
      "metadata": {
        "id": "8TRpiGeWm84W",
        "colab_type": "code",
        "colab": {}
      },
      "source": [
        "from keras import layers\n",
        "from keras import models\n",
        "from keras import initializers\n",
        "from keras.activations import relu"
      ],
      "execution_count": 0,
      "outputs": []
    },
    {
      "cell_type": "markdown",
      "metadata": {
        "id": "swAWkXTlkJW2",
        "colab_type": "text"
      },
      "source": [
        "Create DeepSpeech 1 model with dropout:"
      ]
    },
    {
      "cell_type": "code",
      "metadata": {
        "id": "GETE5pu7bX2V",
        "colab_type": "code",
        "colab": {}
      },
      "source": [
        ""
      ],
      "execution_count": 0,
      "outputs": []
    },
    {
      "cell_type": "code",
      "metadata": {
        "id": "awRS00_Hjhu9",
        "colab_type": "code",
        "colab": {}
      },
      "source": [
        "\n",
        "def DeepSpeech1(input_dim=26,output_dim=37,fc_size=1024, rnn_size=512,dropout=[0.1, 0.1, 0.1,0.1,0.1]):\n",
        "  init=initializers.random_normal(stddev=0.046875)\n",
        "\n",
        "  def clipped_relu(x):\n",
        "    return relu(x, max_value=20)\n",
        "\n",
        "  model=models.Sequential()\n",
        "  \n",
        "  #first 3 FC layers\n",
        "  model.add(layers.TimeDistributed(layers.Dense(fc_size,name='fc1',kernel_initializer=init,bias_initializer=init,activation=clipped_relu),input_shape=(None,input_dim)))\n",
        "  model.add(layers.TimeDistributed(layers.Dropout(dropout[0])))\n",
        "  model.add(layers.TimeDistributed(layers.Dense(fc_size,name='fc2',kernel_initializer=init,bias_initializer=init,activation=clipped_relu)))\n",
        "  model.add(layers.TimeDistributed(layers.Dropout(dropout[1])))\n",
        "  model.add(layers.TimeDistributed(layers.Dense(fc_size,name='fc3',kernel_initializer=init,bias_initializer=init,activation=clipped_relu)))\n",
        "  model.add(layers.TimeDistributed(layers.Dropout(dropout[2])))\n",
        "\n",
        "\n",
        "  # Layer 4: BiDirectional RNN\n",
        "  model.add(layers.Bidirectional(layers.LSTM(rnn_size,name='bilstm4',kernel_initializer=initializers.he_normal(),return_sequences=True,activation=relu, dropout=dropout[3]),merge_mode='sum'))\n",
        "\n",
        "  # Layer 5: FC\n",
        "  model.add(layers.TimeDistributed(layers.Dense(fc_size,name='fc5',kernel_initializer=init,bias_initializer=init,activation=clipped_relu)))\n",
        "  model.add(layers.TimeDistributed(layers.Dropout(dropout[4])))\n",
        "  # Layer 6: softmax output\n",
        "  model.add(layers.TimeDistributed(layers.Dense(output_dim,name='out',kernel_initializer=init,bias_initializer=init,activation='softmax')))\n",
        "\n",
        "  return model\n",
        "  \n"
      ],
      "execution_count": 0,
      "outputs": []
    },
    {
      "cell_type": "markdown",
      "metadata": {
        "id": "_dHePkcFVOuw",
        "colab_type": "text"
      },
      "source": [
        "Add CTC loss:"
      ]
    },
    {
      "cell_type": "code",
      "metadata": {
        "id": "fpL4hC3wVQ-3",
        "colab_type": "code",
        "colab": {}
      },
      "source": [
        "def add_ctc(model):\n",
        "  \n"
      ],
      "execution_count": 0,
      "outputs": []
    },
    {
      "cell_type": "code",
      "metadata": {
        "id": "E05PgMxIVp6H",
        "colab_type": "code",
        "colab": {
          "base_uri": "https://localhost:8080/",
          "height": 493
        },
        "outputId": "1759d315-2e4d-4242-dc70-553e4791dbb3"
      },
      "source": [
        "my_model=DeepSpeech1()\n",
        "my_model.summary()"
      ],
      "execution_count": 58,
      "outputs": [
        {
          "output_type": "stream",
          "text": [
            "Model: \"sequential_19\"\n",
            "_________________________________________________________________\n",
            "Layer (type)                 Output Shape              Param #   \n",
            "=================================================================\n",
            "time_distributed_112 (TimeDi (None, None, 1024)        27648     \n",
            "_________________________________________________________________\n",
            "time_distributed_113 (TimeDi (None, None, 1024)        0         \n",
            "_________________________________________________________________\n",
            "time_distributed_114 (TimeDi (None, None, 1024)        1049600   \n",
            "_________________________________________________________________\n",
            "time_distributed_115 (TimeDi (None, None, 1024)        0         \n",
            "_________________________________________________________________\n",
            "time_distributed_116 (TimeDi (None, None, 1024)        1049600   \n",
            "_________________________________________________________________\n",
            "time_distributed_117 (TimeDi (None, None, 1024)        0         \n",
            "_________________________________________________________________\n",
            "bidirectional_6 (Bidirection (None, None, 512)         6295552   \n",
            "_________________________________________________________________\n",
            "time_distributed_118 (TimeDi (None, None, 1024)        525312    \n",
            "_________________________________________________________________\n",
            "time_distributed_119 (TimeDi (None, None, 1024)        0         \n",
            "_________________________________________________________________\n",
            "time_distributed_120 (TimeDi (None, None, 37)          37925     \n",
            "=================================================================\n",
            "Total params: 8,985,637\n",
            "Trainable params: 8,985,637\n",
            "Non-trainable params: 0\n",
            "_________________________________________________________________\n"
          ],
          "name": "stdout"
        }
      ]
    }
  ]
}