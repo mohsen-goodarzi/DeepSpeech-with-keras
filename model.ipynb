{
  "nbformat": 4,
  "nbformat_minor": 0,
  "metadata": {
    "colab": {
      "name": "model.ipynb",
      "provenance": [],
      "collapsed_sections": [],
      "authorship_tag": "ABX9TyMPu0tnDIM1lSB/15i9/YDW",
      "include_colab_link": true
    },
    "kernelspec": {
      "name": "python3",
      "display_name": "Python 3"
    }
  },
  "cells": [
    {
      "cell_type": "markdown",
      "metadata": {
        "id": "view-in-github",
        "colab_type": "text"
      },
      "source": [
        "<a href=\"https://colab.research.google.com/github/mohsen-goodarzi/DeepSpeech-with-keras/blob/master/model.ipynb\" target=\"_parent\"><img src=\"https://colab.research.google.com/assets/colab-badge.svg\" alt=\"Open In Colab\"/></a>"
      ]
    },
    {
      "cell_type": "code",
      "metadata": {
        "id": "8TRpiGeWm84W",
        "colab_type": "code",
        "outputId": "ddaaeb8e-21e2-4eed-f7e3-a679131b2354",
        "colab": {
          "base_uri": "https://localhost:8080/",
          "height": 79
        }
      },
      "source": [
        "import keras"
      ],
      "execution_count": 1,
      "outputs": [
        {
          "output_type": "stream",
          "text": [
            "Using TensorFlow backend.\n"
          ],
          "name": "stderr"
        },
        {
          "output_type": "display_data",
          "data": {
            "text/html": [
              "<p style=\"color: red;\">\n",
              "The default version of TensorFlow in Colab will soon switch to TensorFlow 2.x.<br>\n",
              "We recommend you <a href=\"https://www.tensorflow.org/guide/migrate\" target=\"_blank\">upgrade</a> now \n",
              "or ensure your notebook will continue to use TensorFlow 1.x via the <code>%tensorflow_version 1.x</code> magic:\n",
              "<a href=\"https://colab.research.google.com/notebooks/tensorflow_version.ipynb\" target=\"_blank\">more info</a>.</p>\n"
            ],
            "text/plain": [
              "<IPython.core.display.HTML object>"
            ]
          },
          "metadata": {
            "tags": []
          }
        }
      ]
    },
    {
      "cell_type": "markdown",
      "metadata": {
        "id": "swAWkXTlkJW2",
        "colab_type": "text"
      },
      "source": [
        "*Create DeepSpeech 1 model with dropout*"
      ]
    },
    {
      "cell_type": "code",
      "metadata": {
        "id": "awRS00_Hjhu9",
        "colab_type": "code",
        "colab": {}
      },
      "source": [
        "\n",
        "def DeepSpeech1(input_dim=26,fc_size=1024,dropout=[0.1, 0.1, 0.1]):\n",
        "  #input layer (MFCCs)\n",
        "  input_data=keras.layers.Input(shape=(,input_dim),name='input')\n",
        "\n",
        "  #first 3 FC layers\n",
        "  init=keras.initializers.random_normal(stddev=0.046875)\n",
        "  cliped_relu=keras.activations.relu(max_value=20)\n",
        "  x=keras.layers.TimeDistributed(keras.layers.Dense(fc_size,name='fc1',kernel_initializer=init,bias_initializer=init,activation=cliped_relu))(input_data)\n",
        "  x=keras.layers.TimeDistributed(keras.layers.Dropout(dropout[0]))(x)\n",
        "  x=keras.layers.TimeDistributed(keras.layers.Dense(fc_size,name='fc2',kernel_initializer=init,bias_initializer=init,activation=cliped_relu))(x) \n",
        "  x=keras.layers.TimeDistributed(keras.layers.Dropout(dropout[1]))(x)\n",
        "  x=keras.layers.TimeDistributed(keras.layers.Dense(fc_size,kernel_initializer=init,bias_initializer=init,activation=cliped_relu))(x)\n",
        "  x=keras.layers.TimeDistributed(keras.layers.Dropout(dropout[2]))(x)\n",
        "\n",
        "  \n"
      ],
      "execution_count": 0,
      "outputs": []
    }
  ]
}